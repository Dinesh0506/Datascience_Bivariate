{
 "cells": [
  {
   "cell_type": "code",
   "execution_count": null,
   "id": "3934a5a7-480b-4a41-a281-347a287b3523",
   "metadata": {},
   "outputs": [],
   "source": [
    "import pandas as pd"
   ]
  },
  {
   "cell_type": "code",
   "execution_count": null,
   "id": "0f035b19-f2e0-480d-97bb-0a4eda6b5c09",
   "metadata": {},
   "outputs": [],
   "source": [
    "dataset=pd.read_csv(\"preprocessed_data.csv\")"
   ]
  },
  {
   "cell_type": "code",
   "execution_count": null,
   "id": "01e01f53-7214-414d-ab9d-fe8070e84ad6",
   "metadata": {},
   "outputs": [],
   "source": [
    "dataset"
   ]
  },
  {
   "cell_type": "code",
   "execution_count": null,
   "id": "f837f493-4178-4cb5-afaa-baca0b9c73e7",
   "metadata": {},
   "outputs": [],
   "source": [
    "dataset.isnull().sum()"
   ]
  },
  {
   "cell_type": "code",
   "execution_count": null,
   "id": "47653900-6599-4051-bf51-5304305efda6",
   "metadata": {},
   "outputs": [],
   "source": [
    "dataset.cov(numeric_only=True) "
   ]
  },
  {
   "cell_type": "code",
   "execution_count": null,
   "id": "bb801d8e-1d67-4f65-882b-263bba4165b5",
   "metadata": {},
   "outputs": [],
   "source": [
    "#1.The covariance between degree_p and etest_p is 21.929469. \n",
    "#this is 24 postive covariance and it is 24 times differs from the etest_p marks.\n",
    "#2.The covariance between etest_p and mba_p is 16.886973.\n",
    "#In this 16 postive covariance and it is 16 times differs from mba_p marks "
   ]
  },
  {
   "cell_type": "code",
   "execution_count": null,
   "id": "278c3858-1c2a-493d-87d4-fa17eef49797",
   "metadata": {},
   "outputs": [],
   "source": [
    "dataset.corr(numeric_only=True)"
   ]
  },
  {
   "cell_type": "code",
   "execution_count": null,
   "id": "a2daeb6c-8bda-48aa-9b15-2a924ea70752",
   "metadata": {},
   "outputs": [],
   "source": []
  }
 ],
 "metadata": {
  "kernelspec": {
   "display_name": "Python 3 (ipykernel)",
   "language": "python",
   "name": "python3"
  },
  "language_info": {
   "codemirror_mode": {
    "name": "ipython",
    "version": 3
   },
   "file_extension": ".py",
   "mimetype": "text/x-python",
   "name": "python",
   "nbconvert_exporter": "python",
   "pygments_lexer": "ipython3",
   "version": "3.11.5"
  }
 },
 "nbformat": 4,
 "nbformat_minor": 5
}
