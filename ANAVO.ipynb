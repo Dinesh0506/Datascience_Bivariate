{
 "cells": [
  {
   "cell_type": "code",
   "execution_count": null,
   "id": "7c685537-6b4a-4bcf-bd32-17a57f7370e4",
   "metadata": {},
   "outputs": [],
   "source": [
    "import pandas as pd"
   ]
  },
  {
   "cell_type": "code",
   "execution_count": null,
   "id": "1fdc2765-06b0-4256-9e5e-8c2396f5d6ab",
   "metadata": {},
   "outputs": [],
   "source": [
    "dataset=pd.read_csv(\"preprocessed_data.csv\")"
   ]
  },
  {
   "cell_type": "code",
   "execution_count": null,
   "id": "3a280966-a5f0-4b23-a5ad-49a6b9e60420",
   "metadata": {},
   "outputs": [],
   "source": [
    "dataset"
   ]
  },
  {
   "cell_type": "code",
   "execution_count": null,
   "id": "d7b6ea9a-8c0e-45aa-887b-d9d7c19e7973",
   "metadata": {},
   "outputs": [],
   "source": [
    "# ANAVO --> Analysis Of Variance "
   ]
  },
  {
   "cell_type": "code",
   "execution_count": null,
   "id": "aaca990c-c815-487a-b543-f228dea0dc02",
   "metadata": {},
   "outputs": [],
   "source": [
    "#HO--> there is no significant difference in marks\n",
    "#H1-->there is significant difference in marks"
   ]
  },
  {
   "cell_type": "code",
   "execution_count": null,
   "id": "34691fbd-0d0a-4b13-be72-42cee16a91fe",
   "metadata": {},
   "outputs": [],
   "source": [
    "#ONE Way Classification \n",
    "import scipy.stats as stats\n",
    "stats.f_oneway(dataset['ssc_p'],dataset['hsc_p'],dataset['mba_p'])"
   ]
  },
  {
   "cell_type": "code",
   "execution_count": null,
   "id": "232a4414-612e-4417-8747-9762e14afc08",
   "metadata": {},
   "outputs": [],
   "source": [
    "#Solution:-\n",
    "#Rejected the Null Hypothesis p<0.05.\n",
    "#Then Accept the Alternate Hypothesis\n",
    "# Here the difference between ssc_p ,hsc_p and mba_p marks is higher the p value.\n",
    "#Then Null Hypothesis there is no significant difference between ssc_p,hsc_p,mba_p marks.\n",
    "#Accept the Null Hypothesis and Reject the Alternate Hypothesis in this statement of one way Classification."
   ]
  }
 ],
 "metadata": {
  "kernelspec": {
   "display_name": "Python 3 (ipykernel)",
   "language": "python",
   "name": "python3"
  },
  "language_info": {
   "codemirror_mode": {
    "name": "ipython",
    "version": 3
   },
   "file_extension": ".py",
   "mimetype": "text/x-python",
   "name": "python",
   "nbconvert_exporter": "python",
   "pygments_lexer": "ipython3",
   "version": "3.11.5"
  }
 },
 "nbformat": 4,
 "nbformat_minor": 5
}
